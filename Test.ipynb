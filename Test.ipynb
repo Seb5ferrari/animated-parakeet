{
  "nbformat": 4,
  "nbformat_minor": 0,
  "metadata": {
    "colab": {
      "name": "Test.ipynb",
      "provenance": []
    },
    "kernelspec": {
      "name": "python3",
      "display_name": "Python 3"
    }
  },
  "cells": [
    {
      "cell_type": "code",
      "metadata": {
        "id": "zY5Qmf3dLWNe"
      },
      "source": [
        "import os\r\n",
        "import glob\r\n",
        "import pandas as pd\r\n",
        "from keras.preprocessing.image import ImageDataGenerator\r\n",
        "from tensorflow.keras.models import load_model\r\n",
        "from sklearn.metrics import accuracy_score"
      ],
      "execution_count": null,
      "outputs": []
    },
    {
      "cell_type": "code",
      "metadata": {
        "id": "sKkXmKxOLe6T"
      },
      "source": [
        "model = load_model('/content/drive/MyDrive/naive/Mynewmodel1_10.h5')"
      ],
      "execution_count": null,
      "outputs": []
    },
    {
      "cell_type": "code",
      "metadata": {
        "id": "iYBV4_5IM6vP"
      },
      "source": [
        "test_data_path = \"/content/testdata/\"\r\n",
        "test_filenames = os.listdir(test_data_path)\r\n",
        "test_df = pd.DataFrame({\r\n",
        "    'filename': test_filenames\r\n",
        "})"
      ],
      "execution_count": null,
      "outputs": []
    },
    {
      "cell_type": "code",
      "metadata": {
        "id": "tYxJOOXbNB4Z"
      },
      "source": [
        "nb_samples = test_df.shape[0]"
      ],
      "execution_count": null,
      "outputs": []
    },
    {
      "cell_type": "code",
      "metadata": {
        "colab": {
          "base_uri": "https://localhost:8080/"
        },
        "id": "wjUYFbGWNCSw",
        "outputId": "1513f98b-a2e3-4df5-a64e-d057d8f48629"
      },
      "source": [
        "print(nb_samples)\r\n",
        "test_gen = ImageDataGenerator(rescale=1./255)\r\n",
        "test_generator = test_gen.flow_from_dataframe(\r\n",
        "    test_df, \r\n",
        "    test_data_path, \r\n",
        "    x_col='filename',\r\n",
        "    y_col=None,\r\n",
        "    class_mode=None,\r\n",
        "    target_size=(400,400),\r\n",
        "    batch_size=32,\r\n",
        "    shuffle = False\r\n",
        ")"
      ],
      "execution_count": null,
      "outputs": [
        {
          "output_type": "stream",
          "text": [
            "27\n",
            "Found 27 validated image filenames.\n"
          ],
          "name": "stdout"
        }
      ]
    },
    {
      "cell_type": "code",
      "metadata": {
        "colab": {
          "base_uri": "https://localhost:8080/"
        },
        "id": "a46NoGMDNM0X",
        "outputId": "ebee5b43-cdc0-424c-ad08-fdb6281db038"
      },
      "source": [
        "predict = model.predict_generator(test_generator)\r\n",
        "predict"
      ],
      "execution_count": null,
      "outputs": [
        {
          "output_type": "stream",
          "text": [
            "/usr/local/lib/python3.6/dist-packages/tensorflow/python/keras/engine/training.py:1905: UserWarning: `Model.predict_generator` is deprecated and will be removed in a future version. Please use `Model.predict`, which supports generators.\n",
            "  warnings.warn('`Model.predict_generator` is deprecated and '\n"
          ],
          "name": "stderr"
        },
        {
          "output_type": "execute_result",
          "data": {
            "text/plain": [
              "array([[8.18360925e-01, 8.61865628e-05, 1.81552947e-01],\n",
              "       [9.81378436e-01, 8.42627651e-06, 1.86131857e-02],\n",
              "       [5.38219027e-02, 9.02325992e-05, 9.46087837e-01],\n",
              "       [5.85544407e-01, 4.00174213e-05, 4.14415598e-01],\n",
              "       [8.41196239e-01, 1.47739032e-04, 1.58656090e-01],\n",
              "       [3.80487502e-01, 7.62495256e-05, 6.19436264e-01],\n",
              "       [3.37651782e-02, 1.34872516e-05, 9.66221333e-01],\n",
              "       [1.42342655e-03, 2.98627424e-06, 9.98573542e-01],\n",
              "       [8.26497555e-01, 2.93273624e-05, 1.73473060e-01],\n",
              "       [1.71585768e-01, 7.01341633e-05, 8.28344047e-01],\n",
              "       [5.01353502e-01, 1.09677479e-04, 4.98536795e-01],\n",
              "       [9.96611416e-01, 4.71295243e-06, 3.38383787e-03],\n",
              "       [2.99492441e-02, 1.67678700e-05, 9.70034063e-01],\n",
              "       [8.27612132e-02, 9.42555562e-06, 9.17229354e-01],\n",
              "       [6.24594510e-01, 9.78003736e-05, 3.75307679e-01],\n",
              "       [3.14146191e-01, 1.20582445e-04, 6.85733199e-01],\n",
              "       [3.73782380e-03, 5.22181472e-06, 9.96256948e-01],\n",
              "       [1.92866862e-01, 7.19492746e-05, 8.07061136e-01],\n",
              "       [9.11535203e-01, 7.29242674e-05, 8.83918330e-02],\n",
              "       [2.19448283e-02, 1.10952278e-05, 9.78044093e-01],\n",
              "       [7.29577124e-01, 2.31025988e-05, 2.70399660e-01],\n",
              "       [6.60911156e-03, 6.30664726e-06, 9.93384540e-01],\n",
              "       [4.04204503e-02, 1.67752169e-05, 9.59562778e-01],\n",
              "       [2.41625775e-03, 5.80189453e-06, 9.97577965e-01],\n",
              "       [9.33487296e-01, 4.08660999e-05, 6.64718375e-02],\n",
              "       [2.78081089e-01, 1.66305021e-04, 7.21752584e-01],\n",
              "       [5.61556399e-01, 6.74352341e-05, 4.38376248e-01]], dtype=float32)"
            ]
          },
          "metadata": {
            "tags": []
          },
          "execution_count": 68
        }
      ]
    },
    {
      "cell_type": "code",
      "metadata": {
        "id": "cHZj2Y78NPiv"
      },
      "source": [
        "test_df['category'] = predict.argmax(axis = 1)"
      ],
      "execution_count": null,
      "outputs": []
    },
    {
      "cell_type": "code",
      "metadata": {
        "id": "XGMO3hqKNRNc"
      },
      "source": [
        "true_labels = []\r\n",
        "for filename in test_filenames:\r\n",
        "    tl = filename.split('.')[0]\r\n",
        "    if tl == '90':\r\n",
        "        true_labels.append(2)\r\n",
        "    elif tl == '0':\r\n",
        "        true_labels.append(1)\r\n",
        "    else:\r\n",
        "        true_labels.append(0)\r\n",
        "\r\n",
        "test_df['True_labels'] = true_labels"
      ],
      "execution_count": null,
      "outputs": []
    },
    {
      "cell_type": "code",
      "metadata": {
        "id": "4vMlXTxaPwNV"
      },
      "source": [
        "files = glob.glob (test_data_path + \"/*.png\")\r\n",
        "test_df['Images'] = files"
      ],
      "execution_count": null,
      "outputs": []
    },
    {
      "cell_type": "code",
      "metadata": {
        "id": "zfsIxZ4PP_tY"
      },
      "source": [
        "accuracy = accuracy_score(test_df['True_labels'],test_df['category'],normalize=True)"
      ],
      "execution_count": null,
      "outputs": []
    },
    {
      "cell_type": "code",
      "metadata": {
        "colab": {
          "base_uri": "https://localhost:8080/"
        },
        "id": "afRdHI3eQFkl",
        "outputId": "6e98b389-e2d9-4eed-9289-d81a5b04bd97"
      },
      "source": [
        "accuracy"
      ],
      "execution_count": null,
      "outputs": [
        {
          "output_type": "execute_result",
          "data": {
            "text/plain": [
              "0.4444444444444444"
            ]
          },
          "metadata": {
            "tags": []
          },
          "execution_count": 73
        }
      ]
    },
    {
      "cell_type": "code",
      "metadata": {
        "id": "OEnYuD4kQJWH"
      },
      "source": [
        ""
      ],
      "execution_count": null,
      "outputs": []
    }
  ]
}